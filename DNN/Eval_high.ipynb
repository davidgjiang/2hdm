{
 "cells": [
  {
   "cell_type": "code",
   "execution_count": 1,
   "id": "c13ef6b8-1747-46e5-b466-db8156b19839",
   "metadata": {},
   "outputs": [],
   "source": [
    "import uproot as up\n",
    "import numpy as np\n",
    "import pandas as pd\n",
    "from tqdm import tqdm\n",
    "\n",
    "import torch\n",
    "import torch.nn as nn\n",
    "import torch.nn.functional as F\n",
    "\n",
    "from sklearn.preprocessing import StandardScaler\n",
    "from sklearn.impute import SimpleImputer\n",
    "from sklearn.pipeline import Pipeline\n",
    "import joblib\n",
    "\n",
    "import matplotlib.pyplot as plt"
   ]
  },
  {
   "cell_type": "code",
   "execution_count": 2,
   "id": "ae6c0cbc-1f1b-4c02-850c-33b013fd4635",
   "metadata": {},
   "outputs": [],
   "source": [
    "import warnings\n",
    "warnings.filterwarnings(\"ignore\")"
   ]
  },
  {
   "cell_type": "code",
   "execution_count": 3,
   "id": "01d24802-c22a-4fe0-b60d-9d0654edbea8",
   "metadata": {},
   "outputs": [
    {
     "name": "stdout",
     "output_type": "stream",
     "text": [
      "cuda:0\n"
     ]
    }
   ],
   "source": [
    "# Check access to GPU\n",
    "torch.cuda.is_available()\n",
    "\n",
    "# Assign the name to the GPU\n",
    "device = torch.device(\"cuda:0\" if torch.cuda.is_available() else \"cpu\")\n",
    "print(device)"
   ]
  },
  {
   "cell_type": "code",
   "execution_count": 5,
   "id": "80929068-23dc-45d4-a7c6-0f009e4e1d9f",
   "metadata": {},
   "outputs": [
    {
     "ename": "KeyboardInterrupt",
     "evalue": "",
     "output_type": "error",
     "traceback": [
      "\u001b[0;31m---------------------------------------------------------------------------\u001b[0m",
      "\u001b[0;31mKeyboardInterrupt\u001b[0m                         Traceback (most recent call last)",
      "Cell \u001b[0;32mIn[5], line 13\u001b[0m\n\u001b[1;32m     11\u001b[0m file_path \u001b[38;5;241m=\u001b[39m \u001b[38;5;124m\"\u001b[39m\u001b[38;5;124m/data/dajiang/2HDM/ML/samples/ttbar/validation/\u001b[39m\u001b[38;5;132;01m{}\u001b[39;00m\u001b[38;5;124m.root\u001b[39m\u001b[38;5;124m\"\u001b[39m\u001b[38;5;241m.\u001b[39mformat(name) \u001b[38;5;66;03m# ttbar\u001b[39;00m\n\u001b[1;32m     12\u001b[0m tree \u001b[38;5;241m=\u001b[39m up\u001b[38;5;241m.\u001b[39mopen(file_path)[\u001b[38;5;124m\"\u001b[39m\u001b[38;5;124mreco\u001b[39m\u001b[38;5;124m\"\u001b[39m]\n\u001b[0;32m---> 13\u001b[0m arrays \u001b[38;5;241m=\u001b[39m \u001b[43mtree\u001b[49m\u001b[38;5;241;43m.\u001b[39;49m\u001b[43marrays\u001b[49m\u001b[43m(\u001b[49m\u001b[43mlibrary\u001b[49m\u001b[43m \u001b[49m\u001b[38;5;241;43m=\u001b[39;49m\u001b[43m \u001b[49m\u001b[38;5;124;43m\"\u001b[39;49m\u001b[38;5;124;43mnp\u001b[39;49m\u001b[38;5;124;43m\"\u001b[39;49m\u001b[43m)\u001b[49m\n\u001b[1;32m     14\u001b[0m temp_df \u001b[38;5;241m=\u001b[39m pd\u001b[38;5;241m.\u001b[39mDataFrame(arrays)\n\u001b[1;32m     15\u001b[0m df \u001b[38;5;241m=\u001b[39m temp_df[(temp_df[\u001b[38;5;124m'\u001b[39m\u001b[38;5;124mnBjets_NOSYS\u001b[39m\u001b[38;5;124m'\u001b[39m] \u001b[38;5;241m>\u001b[39m \u001b[38;5;241m1\u001b[39m) \u001b[38;5;241m&\u001b[39m (temp_df[\u001b[38;5;124m'\u001b[39m\u001b[38;5;124mnBjets_NOSYS\u001b[39m\u001b[38;5;124m'\u001b[39m] \u001b[38;5;241m+\u001b[39m temp_df[\u001b[38;5;124m'\u001b[39m\u001b[38;5;124mnLjets_NOSYS\u001b[39m\u001b[38;5;124m'\u001b[39m] \u001b[38;5;241m>\u001b[39m \u001b[38;5;241m3\u001b[39m)]\n",
      "File \u001b[0;32m/usr/local/lib/python3.8/dist-packages/uproot/behaviors/TBranch.py:820\u001b[0m, in \u001b[0;36mHasBranches.arrays\u001b[0;34m(self, expressions, cut, filter_name, filter_typename, filter_branch, aliases, language, entry_start, entry_stop, decompression_executor, interpretation_executor, array_cache, library, ak_add_doc, how)\u001b[0m\n\u001b[1;32m    815\u001b[0m             checked\u001b[38;5;241m.\u001b[39madd(branch\u001b[38;5;241m.\u001b[39mcache_key)\n\u001b[1;32m    816\u001b[0m             \u001b[38;5;28;01mfor\u001b[39;00m (\n\u001b[1;32m    817\u001b[0m                 basket_num,\n\u001b[1;32m    818\u001b[0m                 range_or_basket,\n\u001b[1;32m    819\u001b[0m             ) \u001b[38;5;129;01min\u001b[39;00m branch\u001b[38;5;241m.\u001b[39mentries_to_ranges_or_baskets(entry_start, entry_stop):\n\u001b[0;32m--> 820\u001b[0m                 \u001b[43mranges_or_baskets\u001b[49m\u001b[38;5;241;43m.\u001b[39;49m\u001b[43mappend\u001b[49m\u001b[43m(\u001b[49m\u001b[43m(\u001b[49m\u001b[43mbranch\u001b[49m\u001b[43m,\u001b[49m\u001b[43m \u001b[49m\u001b[43mbasket_num\u001b[49m\u001b[43m,\u001b[49m\u001b[43m \u001b[49m\u001b[43mrange_or_basket\u001b[49m\u001b[43m)\u001b[49m\u001b[43m)\u001b[49m\n\u001b[1;32m    822\u001b[0m interp_options \u001b[38;5;241m=\u001b[39m {\u001b[38;5;124m\"\u001b[39m\u001b[38;5;124mak_add_doc\u001b[39m\u001b[38;5;124m\"\u001b[39m: ak_add_doc}\n\u001b[1;32m    823\u001b[0m _ranges_or_baskets_to_arrays(\n\u001b[1;32m    824\u001b[0m     \u001b[38;5;28mself\u001b[39m,\n\u001b[1;32m    825\u001b[0m     ranges_or_baskets,\n\u001b[0;32m   (...)\u001b[0m\n\u001b[1;32m    834\u001b[0m     interp_options,\n\u001b[1;32m    835\u001b[0m )\n",
      "\u001b[0;31mKeyboardInterrupt\u001b[0m: "
     ]
    }
   ],
   "source": [
    "# Load the eval ROOT file\n",
    "\n",
    "#700_200_mc20e.root\n",
    "#700_250_mc20e.root\n",
    "#700_350_mc20e.root\n",
    "#700_400_mc20e.root\n",
    "#700_450_mc20e.root\n",
    "#user.rjoshi.38019065._000001.output.root\n",
    "name = \"user.rjoshi.38019065._000001.output\"\n",
    "#file_path = \"/data/dajiang/2HDM/ML/samples/signal/Test_High/{}.root\".format(name) # signal\n",
    "file_path = \"/data/dajiang/2HDM/ML/samples/ttbar/validation/{}.root\".format(name) # ttbar\n",
    "tree = up.open(file_path)[\"reco\"]\n",
    "arrays = tree.arrays(library = \"np\")\n",
    "temp_df = pd.DataFrame(arrays)\n",
    "df = temp_df[(temp_df['nBjets_NOSYS'] > 1) & (temp_df['nBjets_NOSYS'] + temp_df['nLjets_NOSYS'] > 3)] # preselection cuts"
   ]
  },
  {
   "cell_type": "code",
   "execution_count": 5,
   "id": "cbcf361d-05e7-4a1f-9e25-12ca1989edd8",
   "metadata": {},
   "outputs": [
    {
     "name": "stderr",
     "output_type": "stream",
     "text": [
      "100%|██████████| 78/78 [00:00<00:00, 412.12it/s]\n"
     ]
    }
   ],
   "source": [
    "# Define vectorized deltaR function\n",
    "def deltaR(eta1, phi1, eta2, phi2):\n",
    "    d_eta = eta1 - eta2\n",
    "    d_phi = (phi1 - phi2 + np.pi) % (2 * np.pi) - np.pi\n",
    "    return np.sqrt(d_eta**2 + d_phi**2)\n",
    "\n",
    "# Define function to calculate delta R between two objects\n",
    "def calculate_deltaR(df, object1_prefix, object2_prefix):\n",
    "    # Create new column name\n",
    "    col_name = f'deltaR_{object1_prefix}_{object2_prefix}'\n",
    "    \n",
    "    # Select the appropriate columns for eta and phi\n",
    "    eta1 = df.get(f'{object1_prefix}_eta_NOSYS', df.get(f'{object1_prefix}_eta_fitted_NOSYS', np.nan))\n",
    "    phi1 = df.get(f'{object1_prefix}_phi_NOSYS', df.get(f'{object1_prefix}_phi_fitted_NOSYS', np.nan))\n",
    "    eta2 = df.get(f'{object2_prefix}_eta_NOSYS', df.get(f'{object2_prefix}_eta_fitted_NOSYS', np.nan))\n",
    "    phi2 = df.get(f'{object2_prefix}_phi_NOSYS', df.get(f'{object2_prefix}_phi_fitted_NOSYS', np.nan))\n",
    "    \n",
    "    # Handle invalid entries (set delta R to NaN for invalid inputs)\n",
    "    mask = (eta1 == -999) | (eta2 == -999) | (phi1 == -999) | (phi2 == -999)\n",
    "    delta_r = deltaR(eta1, phi1, eta2, phi2)\n",
    "    delta_r[mask] = np.nan\n",
    "    \n",
    "    # Assign the computed delta R to the new column\n",
    "    df[col_name] = delta_r\n",
    "\n",
    "# Define combinations for sig_df and ttbar_df: 78 total\n",
    "combinations = [\n",
    "    ('A', 'Hp'), ('A', 'top'), ('A', 'WfromTop'), ('A', 'WfromH'), ('A', 'Wb_nonTop'),\n",
    "    ('Hp', 'top'), ('Hp', 'WfromTop'), ('Hp', 'WfromH'), ('Hp', 'Wb_nonTop'),\n",
    "    ('top', 'WfromTop'), ('top', 'WfromH'), ('top', 'Wb_nonTop'),\n",
    "    ('WfromTop', 'WfromH'), ('WfromTop', 'Wb_nonTop'),\n",
    "    ('WfromH', 'Wb_nonTop'),\n",
    "    ('bjet1', 'bjet2'), ('ljet1', 'ljet2'), ('bjet1', 'ljet1'), ('bjet1', 'ljet2'),\n",
    "    ('bjet2', 'ljet1'), ('bjet2', 'ljet2'), ('bjet1', 'ljet3'), ('bjet1', 'ljet4'),\n",
    "    ('bjet2', 'ljet3'), ('bjet2', 'ljet4'), ('ljet1', 'ljet3'), ('ljet1', 'ljet4'),\n",
    "    ('ljet2', 'ljet3'), ('ljet2', 'ljet4'), ('ljet3', 'ljet4'),\n",
    "    ('bjet1', 'lepton'), ('bjet2', 'lepton'), ('ljet1', 'lepton'),\n",
    "    ('ljet2', 'lepton'), ('ljet3', 'lepton'), ('ljet4', 'lepton'),\n",
    "    ('A', 'bjet1'), ('A', 'bjet2'), ('A', 'ljet1'), ('A', 'ljet2'),\n",
    "    ('A', 'ljet3'), ('A', 'ljet4'), ('A', 'lepton'),\n",
    "    ('top', 'bjet1'), ('top', 'bjet2'), ('top', 'ljet1'), ('top', 'ljet2'),\n",
    "    ('top', 'ljet3'), ('top', 'ljet4'), ('top', 'lepton'),\n",
    "    ('WfromTop', 'bjet1'), ('WfromTop', 'bjet2'), ('WfromTop', 'ljet1'), ('WfromTop', 'ljet2'),\n",
    "    ('WfromTop', 'ljet3'), ('WfromTop', 'ljet4'),('WfromTop', 'lepton'), \n",
    "    ('Wb_nonTop', 'bjet1'), ('Wb_nonTop', 'bjet2'), ('Wb_nonTop', 'ljet1'), ('Wb_nonTop', 'ljet2'),\n",
    "    ('Wb_nonTop', 'ljet3'), ('Wb_nonTop', 'ljet4'), ('Wb_nonTop', 'lepton'),\n",
    "    ('Hp', 'bjet1'), ('Hp', 'bjet2'), ('Hp', 'ljet1'), ('Hp', 'ljet2'),\n",
    "    ('Hp', 'ljet3'), ('Hp', 'ljet4'), ('Hp', 'lepton'),\n",
    "    ('WfromH', 'bjet1'), ('WfromH', 'bjet2'), ('WfromH', 'ljet1'), ('WfromH', 'ljet2'),\n",
    "    ('WfromH', 'ljet3'), ('WfromH', 'ljet4'), ('WfromH', 'lepton'),\n",
    "]\n",
    "\n",
    "# Calculate delta Rs\n",
    "for comb in tqdm(combinations):\n",
    "    calculate_deltaR(df, comb[0], comb[1])"
   ]
  },
  {
   "cell_type": "code",
   "execution_count": 6,
   "id": "e58594d6-17d3-4ed3-a752-ff660b1d556b",
   "metadata": {},
   "outputs": [],
   "source": [
    "# Create a Model Class that inherits nn.Module\n",
    "class Model(nn.Module):\n",
    "    \n",
    "    # Build the model architecture\n",
    "    def __init__(self, in_features=20, h1=32, h2=32, out_features=1, dropout_rate=0.2):\n",
    "        super().__init__() # Instantiate our nn.Module\n",
    "        self.fc1 = nn.Linear(in_features, h1) \n",
    "        self.norm1 = nn.LayerNorm(h1)\n",
    "        self.fc2 = nn.Linear(h1, h2)\n",
    "        self.norm2 = nn.LayerNorm(h2)\n",
    "        self.out = nn.Linear(h2,out_features)\n",
    "        \n",
    "        self.dropout = nn.Dropout(dropout_rate)\n",
    "    \n",
    "    # Build forward function\n",
    "    def forward(self, x):\n",
    "        x = F.relu(self.norm1(self.fc1(x))) # Rectified Linear Unit: If x <= 0: x = 0\n",
    "        x = self.dropout(x)\n",
    "        x = F.relu(self.norm2(self.fc2(x)))\n",
    "        x = self.dropout(x)\n",
    "        x = self.out(x)\n",
    "\n",
    "        return torch.sigmoid(x)"
   ]
  },
  {
   "cell_type": "code",
   "execution_count": 7,
   "id": "9a703a4b-ec01-4331-9ac3-f9407e9c8577",
   "metadata": {},
   "outputs": [
    {
     "data": {
      "text/plain": [
       "Model(\n",
       "  (fc1): Linear(in_features=20, out_features=32, bias=True)\n",
       "  (norm1): LayerNorm((32,), eps=1e-05, elementwise_affine=True)\n",
       "  (fc2): Linear(in_features=32, out_features=32, bias=True)\n",
       "  (norm2): LayerNorm((32,), eps=1e-05, elementwise_affine=True)\n",
       "  (out): Linear(in_features=32, out_features=1, bias=True)\n",
       "  (dropout): Dropout(p=0.2, inplace=False)\n",
       ")"
      ]
     },
     "execution_count": 7,
     "metadata": {},
     "output_type": "execute_result"
    }
   ],
   "source": [
    "# Load the model\n",
    "model = Model()\n",
    "model.load_state_dict(torch.load(\"dnn_model_high_classification.pth\"))\n",
    "model.to(device)"
   ]
  },
  {
   "cell_type": "code",
   "execution_count": 8,
   "id": "4d1793e8-9fc3-4aaa-9a13-8b5fb9162f5a",
   "metadata": {},
   "outputs": [],
   "source": [
    "features = ['MET_phi_NOSYS',\n",
    " 'Hp_mass_fitted_NOSYS',\n",
    " 'deltaR_Hp_Wb_nonTop',\n",
    " 'deltaR_bjet1_ljet1',\n",
    " 'deltaR_WfromH_bjet1',\n",
    " 'WfromH_mass_fitted_NOSYS',\n",
    " 'deltaR_top_WfromH',\n",
    " 'ljet2_pt_NOSYS',\n",
    " 'Wb_nonTop_pt_fitted_NOSYS',\n",
    " 'deltaR_top_Wb_nonTop',\n",
    " 'WfromTop_pt_fitted_NOSYS',\n",
    " 'deltaR_bjet1_bjet2',\n",
    " 'top_mass_fitted_NOSYS',\n",
    " 'lepton_pt_NOSYS',\n",
    " 'A_mass_fitted_NOSYS',\n",
    " 'ljet1_pt_NOSYS',\n",
    " 'Hp_pt_fitted_NOSYS',\n",
    " 'Wb_nonTop_mass_fitted_NOSYS',\n",
    " 'bjet1_pt_NOSYS',\n",
    " 'WfromH_pt_fitted_NOSYS']"
   ]
  },
  {
   "cell_type": "code",
   "execution_count": 10,
   "id": "051c264b-8fa9-483e-9b66-bb3d0da9b709",
   "metadata": {},
   "outputs": [],
   "source": [
    "# Process test data\n",
    "pipeline = joblib.load('preprocessing_pipeline_high.pkl')\n",
    "\n",
    "df_features = df[features].copy()\n",
    "df_features.replace(-999, np.nan, inplace=True)\n",
    "\n",
    "# Scale the test data the same way as the training\n",
    "df_scaled = pipeline.transform(df_features)\n",
    "X_scaled = np.array(df_scaled)\n",
    "X = torch.tensor(X_scaled)\n",
    "X = X.to(device)"
   ]
  },
  {
   "cell_type": "code",
   "execution_count": 11,
   "id": "8d39021f-aabc-4bd6-9d66-0d049c2eda92",
   "metadata": {},
   "outputs": [
    {
     "data": {
      "text/plain": [
       "torch.Size([6034, 20])"
      ]
     },
     "execution_count": 11,
     "metadata": {},
     "output_type": "execute_result"
    }
   ],
   "source": [
    "X.shape"
   ]
  },
  {
   "cell_type": "code",
   "execution_count": 12,
   "id": "8561fb6d-a116-4d41-8c05-3dcd7c54a9dc",
   "metadata": {},
   "outputs": [
    {
     "data": {
      "image/png": "[encoded data removed]",
      "text/plain": [
       "<Figure size 640x480 with 1 Axes>"
      ]
     },
     "metadata": {},
     "output_type": "display_data"
    }
   ],
   "source": [
    "model.eval()  # Set the model to evaluation mode\n",
    "with torch.no_grad():  # No need to compute gradients during evaluation\n",
    "    # Forward pass to generate predictions\n",
    "    y_pred_test = model(X)\n",
    "\n",
    "dnn_score = np.concatenate(y_pred_test.cpu().numpy())\n",
    "\n",
    "# Plot\n",
    "bin_list = np.linspace(0,1,50)\n",
    "fig, ax = plt.subplots()\n",
    "ax.hist(dnn_score,bins=bin_list,histtype=\"step\",color=\"blue\")\n",
    "ax.set_xlabel(\"DNN score\")\n",
    "ax.set_title(\"DNN Classification Scores\")\n",
    "fig.show()"
   ]
  },
  {
   "cell_type": "code",
   "execution_count": 31,
   "id": "749bc7b4-f5fc-43c1-8263-a2f3cbf4a107",
   "metadata": {},
   "outputs": [],
   "source": [
    "keys = [\"weight_mc_NOSYS\",\n",
    "    \"weight_jvt_effSF_NOSYS\",\n",
    "    \"weight_btagSF_DL1dv01_FixedCutBEff_85_NOSYS\"]\n",
    "\n",
    "for key in keys:\n",
    "    globals()[key] = df[key].to_numpy()"
   ]
  },
  {
   "cell_type": "code",
   "execution_count": null,
   "id": "b4b6816e-d287-4837-a37e-0711be7bf244",
   "metadata": {},
   "outputs": [],
   "source": [
    "weight_btagSF_DL1dv01_FixedCutBEff_85_NOSYS"
   ]
  },
  {
   "cell_type": "code",
   "execution_count": 32,
   "id": "b901522e-7879-4d58-a036-c91af52e18a0",
   "metadata": {},
   "outputs": [],
   "source": [
    "# Save signal_predictions and background_predictions to a ROOT file\n",
    "\n",
    "dict_type = {\n",
    "    \"dnn_score\": \"float32\",\n",
    "    \"weight_mc_NOSYS\": \"float32\",\n",
    "    \"weight_jvt_effSF_NOSYS\": \"float32\",\n",
    "    \"weight_btagSF_DL1dv01_FixedCutBEff_85_NOSYS\": \"float32\"\n",
    "    }\n",
    "\n",
    "dict_val = {\n",
    "    \"dnn_score\": dnn_score, \n",
    "    \"weight_mc_NOSYS\": weight_mc_NOSYS,\n",
    "    \"weight_jvt_effSF_NOSYS\": weight_jvt_effSF_NOSYS,\n",
    "    \"weight_btagSF_DL1dv01_FixedCutBEff_85_NOSYS\": weight_btagSF_DL1dv01_FixedCutBEff_85_NOSYS,\n",
    "    }\n",
    "\n",
    "with up.recreate(\"root_files/{}_eval.root\".format(name)) as f:\n",
    "    tree = f.mktree(\"reco\", dict_type)\n",
    "    tree.extend(dict_val)"
   ]
  },
  {
   "cell_type": "code",
   "execution_count": null,
   "id": "d42999ca-06a5-47c8-9889-4f7bab381c67",
   "metadata": {},
   "outputs": [],
   "source": []
  }
 ],
 "metadata": {
  "kernelspec": {
   "display_name": "Python 3.8",
   "language": "python",
   "name": "py38"
  },
  "language_info": {
   "codemirror_mode": {
    "name": "ipython",
    "version": 3
   },
   "file_extension": ".py",
   "mimetype": "text/x-python",
   "name": "python",
   "nbconvert_exporter": "python",
   "pygments_lexer": "ipython3",
   "version": "3.8.10"
  }
 },
 "nbformat": 4,
 "nbformat_minor": 5
}
